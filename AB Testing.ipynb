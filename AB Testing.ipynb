{
  "nbformat": 4,
  "nbformat_minor": 0,
  "metadata": {
    "colab": {
      "name": "SAM.ipynb",
      "provenance": [],
      "collapsed_sections": []
    },
    "kernelspec": {
      "name": "python3",
      "display_name": "Python 3"
    },
    "language_info": {
      "name": "python"
    }
  },
  "cells": [
    {
      "cell_type": "code",
      "metadata": {
        "id": "Bc9oBLfcfXeE"
      },
      "source": [
        "import pandas as pd\n",
        "import numpy as np\n",
        "import random\n",
        "import matplotlib.pyplot as plt\n",
        "import scipy\n",
        "from scipy import stats\n",
        "\n",
        "%matplotlib inline\n",
        "#We are setting the seed to assure you get the same answers on quizzes as we set up\n",
        "random.seed(42)"
      ],
      "execution_count": null,
      "outputs": []
    },
    {
      "cell_type": "code",
      "metadata": {
        "colab": {
          "base_uri": "https://localhost:8080/"
        },
        "id": "ygc1Je4ikk7t",
        "outputId": "1acd4a70-8268-4258-f582-b4fb583dd47c"
      },
      "source": [
        "from google.colab import drive\n",
        "drive.mount('/content/drive')"
      ],
      "execution_count": null,
      "outputs": [
        {
          "output_type": "stream",
          "name": "stdout",
          "text": [
            "Mounted at /content/drive\n"
          ]
        }
      ]
    },
    {
      "cell_type": "markdown",
      "metadata": {
        "id": "ZhBbIoWclcUF"
      },
      "source": [
        "# Reading The data"
      ]
    },
    {
      "cell_type": "code",
      "metadata": {
        "colab": {
          "base_uri": "https://localhost:8080/"
        },
        "id": "-qwKGqSAkpp-",
        "outputId": "1ff162cf-ada2-41a7-9496-a19455ce20b1"
      },
      "source": [
        "df = pd.read_csv('/content/drive/MyDrive/SAM/revenue.csv')\n",
        "df.head(2)"
      ],
      "execution_count": null,
      "outputs": [
        {
          "output_type": "execute_result",
          "data": {
            "text/html": [
              "<div>\n",
              "<style scoped>\n",
              "    .dataframe tbody tr th:only-of-type {\n",
              "        vertical-align: middle;\n",
              "    }\n",
              "\n",
              "    .dataframe tbody tr th {\n",
              "        vertical-align: top;\n",
              "    }\n",
              "\n",
              "    .dataframe thead th {\n",
              "        text-align: right;\n",
              "    }\n",
              "</style>\n",
              "<table border=\"1\" class=\"dataframe\">\n",
              "  <thead>\n",
              "    <tr style=\"text-align: right;\">\n",
              "      <th></th>\n",
              "      <th>session_id</th>\n",
              "      <th>transactions</th>\n",
              "      <th>revenue</th>\n",
              "    </tr>\n",
              "  </thead>\n",
              "  <tbody>\n",
              "    <tr>\n",
              "      <th>0</th>\n",
              "      <td>2.724240e+36</td>\n",
              "      <td>1</td>\n",
              "      <td>74.990555</td>\n",
              "    </tr>\n",
              "    <tr>\n",
              "      <th>1</th>\n",
              "      <td>8.444120e+36</td>\n",
              "      <td>1</td>\n",
              "      <td>-83.416461</td>\n",
              "    </tr>\n",
              "  </tbody>\n",
              "</table>\n",
              "</div>"
            ],
            "text/plain": [
              "     session_id  transactions    revenue\n",
              "0  2.724240e+36             1  74.990555\n",
              "1  8.444120e+36             1 -83.416461"
            ]
          },
          "metadata": {},
          "execution_count": 4
        }
      ]
    },
    {
      "cell_type": "code",
      "metadata": {
        "colab": {
          "base_uri": "https://localhost:8080/"
        },
        "id": "MNBVJa1tnQIT",
        "outputId": "4c9472a4-98ba-4bdc-8ec3-1187aaf3719e"
      },
      "source": [
        "#calculate the converted users\n",
        "df['revenue'].mean()"
      ],
      "execution_count": null,
      "outputs": [
        {
          "output_type": "execute_result",
          "data": {
            "text/plain": [
              "26369.07733947988"
            ]
          },
          "metadata": {},
          "execution_count": 5
        }
      ]
    },
    {
      "cell_type": "code",
      "metadata": {
        "colab": {
          "base_uri": "https://localhost:8080/"
        },
        "id": "GOetSzN1npCS",
        "outputId": "9cdc105b-5974-4831-bdb6-2c66824f36be"
      },
      "source": [
        "df.isnull().sum().sum()"
      ],
      "execution_count": null,
      "outputs": [
        {
          "output_type": "execute_result",
          "data": {
            "text/plain": [
              "0"
            ]
          },
          "metadata": {},
          "execution_count": 6
        }
      ]
    },
    {
      "cell_type": "markdown",
      "metadata": {
        "id": "CG_vO0QnoDZy"
      },
      "source": [
        "# A/B testing\n",
        "- control: 11886 sessions, 1052 conversions.                         \n",
        "- variant: 11900 sessions, 1133 conversions."
      ]
    },
    {
      "cell_type": "code",
      "metadata": {
        "id": "q5L9pSlLpgER"
      },
      "source": [
        "# Explanation :\n",
        "## the Null hypothesis states there control is better \n",
        "\n",
        "## the alternative hypothesis states variant is better\n"
      ],
      "execution_count": null,
      "outputs": []
    },
    {
      "cell_type": "code",
      "metadata": {
        "id": "BTS2IKR0QrW-"
      },
      "source": [
        "n_control= 1052\n",
        "n_variant =1133"
      ],
      "execution_count": null,
      "outputs": []
    },
    {
      "cell_type": "code",
      "metadata": {
        "colab": {
          "base_uri": "https://localhost:8080/"
        },
        "id": "2oKeSu_GnrRg",
        "outputId": "eaa3463c-67ef-414b-dbb7-9eda771bf32e"
      },
      "source": [
        "# control probabilty\n",
        "p_control =1052/11886\n",
        "p_control"
      ],
      "execution_count": null,
      "outputs": [
        {
          "output_type": "execute_result",
          "data": {
            "text/plain": [
              "0.08850748780077403"
            ]
          },
          "metadata": {},
          "execution_count": 9
        }
      ]
    },
    {
      "cell_type": "code",
      "metadata": {
        "colab": {
          "base_uri": "https://localhost:8080/"
        },
        "id": "42hBBdL3oU6j",
        "outputId": "9d44098b-8757-4919-eb72-d9724c6886bc"
      },
      "source": [
        "# variant probabilty\n",
        "p_variant =1133 /11900\n",
        "p_variant"
      ],
      "execution_count": null,
      "outputs": [
        {
          "output_type": "execute_result",
          "data": {
            "text/plain": [
              "0.09521008403361345"
            ]
          },
          "metadata": {},
          "execution_count": 10
        }
      ]
    },
    {
      "cell_type": "code",
      "metadata": {
        "id": "icVKa6XwgVdO",
        "colab": {
          "base_uri": "https://localhost:8080/"
        },
        "outputId": "6c45ea17-d67c-43d1-9634-2801c53edd61"
      },
      "source": [
        "p_variant - p_control"
      ],
      "execution_count": null,
      "outputs": [
        {
          "output_type": "execute_result",
          "data": {
            "text/plain": [
              "0.0067025962328394195"
            ]
          },
          "metadata": {},
          "execution_count": 11
        }
      ]
    },
    {
      "cell_type": "markdown",
      "metadata": {
        "id": "zeiAb6IBObwi"
      },
      "source": [
        "Simulate $n-control$ with a convert rate of $p-contro$ under the null."
      ]
    },
    {
      "cell_type": "code",
      "metadata": {
        "colab": {
          "base_uri": "https://localhost:8080/"
        },
        "id": "yeDGbfy4OoSN",
        "outputId": "f4b59c86-8877-459b-acab-b7c2fd2e1869"
      },
      "source": [
        "p_control_converted = np.random.binomial(1,p_control,n_control)\n",
        "p_control_converted.mean()"
      ],
      "execution_count": null,
      "outputs": [
        {
          "output_type": "execute_result",
          "data": {
            "text/plain": [
              "0.094106463878327"
            ]
          },
          "metadata": {},
          "execution_count": 12
        }
      ]
    },
    {
      "cell_type": "markdown",
      "metadata": {
        "id": "kn6-uqLAOj20"
      },
      "source": [
        "Simulate  $n−variant$  with a convert rate of  $p−variant$  under the null."
      ]
    },
    {
      "cell_type": "code",
      "metadata": {
        "colab": {
          "base_uri": "https://localhost:8080/"
        },
        "id": "PTqRsaQWOpf8",
        "outputId": "4f06b02a-5f27-4374-c235-a602f3f126f7"
      },
      "source": [
        "p_variant_converted = np.random.binomial(1,p_variant,n_variant)\n",
        "p_variant_converted.mean()"
      ],
      "execution_count": null,
      "outputs": [
        {
          "output_type": "execute_result",
          "data": {
            "text/plain": [
              "0.10767872903795234"
            ]
          },
          "metadata": {},
          "execution_count": 13
        }
      ]
    },
    {
      "cell_type": "markdown",
      "metadata": {
        "id": "Siacb4pZSL7Y"
      },
      "source": [
        "Find  $p-control$  -  $p-variant$  for your simulated values"
      ]
    },
    {
      "cell_type": "code",
      "metadata": {
        "colab": {
          "base_uri": "https://localhost:8080/"
        },
        "id": "2Hxs1tUHSLS2",
        "outputId": "6a4caee4-3036-4c27-bea1-768dd42546bd"
      },
      "source": [
        "p_control_converted.mean() - p_variant_converted.mean()"
      ],
      "execution_count": null,
      "outputs": [
        {
          "output_type": "execute_result",
          "data": {
            "text/plain": [
              "-0.01357226515962534"
            ]
          },
          "metadata": {},
          "execution_count": 14
        }
      ]
    },
    {
      "cell_type": "markdown",
      "metadata": {
        "id": "U1aPZcyXS3Ae"
      },
      "source": [
        " Simulate 10,000  $p-control$  -  $p-varaiant$  values using this same process similarly to the one you calculated "
      ]
    },
    {
      "cell_type": "code",
      "metadata": {
        "id": "WYq_v2zmTGwT"
      },
      "source": [
        "# run simulation 10000 times\n",
        "p_diffs = []\n",
        "\n",
        "for _ in range(10000):\n",
        "    p_variant_converted =  np.random.binomial(1,p_variant,n_variant).mean()\n",
        "    p_control_converted =   np.random.binomial(1,p_control,n_control).mean()\n",
        "    p_diffs.append(p_control_converted- p_variant_converted)"
      ],
      "execution_count": null,
      "outputs": []
    },
    {
      "cell_type": "markdown",
      "metadata": {
        "id": "GaFwp8ChT84e"
      },
      "source": [
        " Plot a histogram of the p_diffs. Does this plot look like what you expected"
      ]
    },
    {
      "cell_type": "code",
      "metadata": {
        "colab": {
          "base_uri": "https://localhost:8080/",
          "height": 313
        },
        "id": "lytNas5SUCtj",
        "outputId": "34870f50-58a6-434d-a644-5229572a2490"
      },
      "source": [
        "# convert to numpy array\n",
        "p_diffs = np.array(p_diffs)\n",
        "\n",
        "# plot sampling distribution\n",
        "plt.hist(p_diffs)\n",
        "plt.xlabel('p_diffs')\n",
        "plt.ylabel('Frequency')\n",
        "plt.title('Simulated Difference of Variant & control converted under the Null')"
      ],
      "execution_count": null,
      "outputs": [
        {
          "output_type": "execute_result",
          "data": {
            "text/plain": [
              "Text(0.5, 1.0, 'Simulated Difference of Variant & control converted under the Null')"
            ]
          },
          "metadata": {},
          "execution_count": 16
        },
        {
          "output_type": "display_data",
          "data": {
            "image/png": "[encoded data removed]",
            "text/plain": [
              "<Figure size 432x288 with 1 Axes>"
            ]
          },
          "metadata": {
            "needs_background": "light"
          }
        }
      ]
    },
    {
      "cell_type": "markdown",
      "metadata": {
        "id": "yMjLE3t3UgC8"
      },
      "source": [
        "What proportion of the p_diffs are greater than the actual difference observed between Control and Variant\n"
      ]
    },
    {
      "cell_type": "code",
      "metadata": {
        "colab": {
          "base_uri": "https://localhost:8080/"
        },
        "id": "i3BtBiDgUmKO",
        "outputId": "0406eabd-d370-4010-f659-57a9ef9606d4"
      },
      "source": [
        "obs_diff =p_control - p_variant\n",
        "obs_diff"
      ],
      "execution_count": null,
      "outputs": [
        {
          "output_type": "execute_result",
          "data": {
            "text/plain": [
              "-0.0067025962328394195"
            ]
          },
          "metadata": {},
          "execution_count": 17
        }
      ]
    },
    {
      "cell_type": "code",
      "metadata": {
        "colab": {
          "base_uri": "https://localhost:8080/",
          "height": 296
        },
        "id": "2d3omniTVg7P",
        "outputId": "dc15c14f-d499-4576-ab8a-ca09fa201f02"
      },
      "source": [
        "# plot line for observed statistic\n",
        "plt.hist(p_diffs)\n",
        "plt.axvline(x=obs_diff, color='r', label=\"Observed difference\")\n",
        "plt.xlabel('p_diffs')\n",
        "plt.ylabel('Frequency')\n",
        "plt.title('Simulated Difference of Variant & control converted under the Null');\n",
        "plt.legend()\n",
        "plt.show()"
      ],
      "execution_count": null,
      "outputs": [
        {
          "output_type": "display_data",
          "data": {
            "image/png": "[encoded data removed]",
            "text/plain": [
              "<Figure size 432x288 with 1 Axes>"
            ]
          },
          "metadata": {
            "needs_background": "light"
          }
        }
      ]
    },
    {
      "cell_type": "code",
      "metadata": {
        "colab": {
          "base_uri": "https://localhost:8080/"
        },
        "id": "3YVvTzIiVuSc",
        "outputId": "fcb12099-b7b7-41ca-f123-6448cb8248a3"
      },
      "source": [
        "#calculate the proportion of p_diffs greater than the observe difference\n",
        "(p_diffs > obs_diff).mean()"
      ],
      "execution_count": null,
      "outputs": [
        {
          "output_type": "execute_result",
          "data": {
            "text/plain": [
              "0.4989"
            ]
          },
          "metadata": {},
          "execution_count": 19
        }
      ]
    },
    {
      "cell_type": "markdown",
      "metadata": {
        "id": "Z7cm3OhOWmuN"
      },
      "source": [
        "\n",
        "1- 50.59% is the proportion of the p_diffs that are greater than the actual difference observed.\n",
        "\n",
        "2- 50.59% is the proportion of the p_diffs that are greater than the actual difference observed. In scientific studies, this value is also called the p-value.\n",
        "\n",
        "3- This value means that we cannot reject the null hypothesis and that we do not have sufficient evidence that the  $CONTROL$  has a higher conversion rate than the  $Variant$"
      ]
    },
    {
      "cell_type": "markdown",
      "metadata": {
        "id": "lkY-mTxEvdyR"
      },
      "source": [
        "# Converting POSIX time format to human rediable format "
      ]
    },
    {
      "cell_type": "code",
      "metadata": {
        "colab": {
          "base_uri": "https://localhost:8080/",
          "height": 111
        },
        "id": "XK77xucdvoYf",
        "outputId": "2a55af3b-502a-4a83-b545-a919807793d6"
      },
      "source": [
        "df2 = pd.read_csv('/content/drive/MyDrive/SAM/info.csv')\n",
        "df2.head(2)"
      ],
      "execution_count": null,
      "outputs": [
        {
          "output_type": "execute_result",
          "data": {
            "text/html": [
              "<div>\n",
              "<style scoped>\n",
              "    .dataframe tbody tr th:only-of-type {\n",
              "        vertical-align: middle;\n",
              "    }\n",
              "\n",
              "    .dataframe tbody tr th {\n",
              "        vertical-align: top;\n",
              "    }\n",
              "\n",
              "    .dataframe thead th {\n",
              "        text-align: right;\n",
              "    }\n",
              "</style>\n",
              "<table border=\"1\" class=\"dataframe\">\n",
              "  <thead>\n",
              "    <tr style=\"text-align: right;\">\n",
              "      <th></th>\n",
              "      <th>session_id</th>\n",
              "      <th>channel</th>\n",
              "      <th>device</th>\n",
              "      <th>visit_time</th>\n",
              "      <th>country</th>\n",
              "    </tr>\n",
              "  </thead>\n",
              "  <tbody>\n",
              "    <tr>\n",
              "      <th>0</th>\n",
              "      <td>6721837803725769317162514800620210701</td>\n",
              "      <td>Organic Search</td>\n",
              "      <td>desktop</td>\n",
              "      <td>1625148006</td>\n",
              "      <td>Singapore</td>\n",
              "    </tr>\n",
              "    <tr>\n",
              "      <th>1</th>\n",
              "      <td>8225818815437268011162508906720210701</td>\n",
              "      <td>Affiliates</td>\n",
              "      <td>mobile</td>\n",
              "      <td>1625089067</td>\n",
              "      <td>Sweden</td>\n",
              "    </tr>\n",
              "  </tbody>\n",
              "</table>\n",
              "</div>"
            ],
            "text/plain": [
              "                              session_id         channel  ...  visit_time    country\n",
              "0  6721837803725769317162514800620210701  Organic Search  ...  1625148006  Singapore\n",
              "1  8225818815437268011162508906720210701      Affiliates  ...  1625089067     Sweden\n",
              "\n",
              "[2 rows x 5 columns]"
            ]
          },
          "metadata": {},
          "execution_count": 5
        }
      ]
    },
    {
      "cell_type": "code",
      "metadata": {
        "colab": {
          "base_uri": "https://localhost:8080/",
          "height": 35
        },
        "id": "Hr8UqXddwVIU",
        "outputId": "2a379f6c-1234-4050-fd5a-34c691fffd34"
      },
      "source": [
        "import datetime\n",
        "datetime.datetime.fromtimestamp(1625148006).strftime('%Y-%m-%d %H:%M:%S')\n"
      ],
      "execution_count": null,
      "outputs": [
        {
          "output_type": "execute_result",
          "data": {
            "application/vnd.google.colaboratory.intrinsic+json": {
              "type": "string"
            },
            "text/plain": [
              "'2021-07-01 14:00:06'"
            ]
          },
          "metadata": {},
          "execution_count": 7
        }
      ]
    },
    {
      "cell_type": "code",
      "metadata": {
        "colab": {
          "base_uri": "https://localhost:8080/"
        },
        "id": "1OBZHnlTyhyX",
        "outputId": "d8df0441-b691-45a3-8dc2-0a1fe6fff147"
      },
      "source": [
        "df2.shape"
      ],
      "execution_count": null,
      "outputs": [
        {
          "output_type": "execute_result",
          "data": {
            "text/plain": [
              "(22000, 5)"
            ]
          },
          "metadata": {},
          "execution_count": 12
        }
      ]
    },
    {
      "cell_type": "code",
      "metadata": {
        "colab": {
          "base_uri": "https://localhost:8080/"
        },
        "id": "7LGetNfay9Tg",
        "outputId": "0c02b2a6-bae5-4f32-cd87-307e9e4975ae"
      },
      "source": [
        "dat =df2.visit_time\n",
        "dat"
      ],
      "execution_count": null,
      "outputs": [
        {
          "output_type": "execute_result",
          "data": {
            "text/plain": [
              "0        1625148006\n",
              "1        1625089067\n",
              "2       -1625157567\n",
              "3        1625131541\n",
              "4        1625087750\n",
              "            ...    \n",
              "21995    1625122715\n",
              "21996    1625099274\n",
              "21997    1625116638\n",
              "21998    1625155592\n",
              "21999    1625086888\n",
              "Name: visit_time, Length: 22000, dtype: int64"
            ]
          },
          "metadata": {},
          "execution_count": 15
        }
      ]
    },
    {
      "cell_type": "code",
      "metadata": {
        "id": "dsyID_dPwfQm"
      },
      "source": [
        "time=[]\n",
        "for i in range(22000):\n",
        "   t = datetime.datetime.fromtimestamp(dat[i]).strftime('%Y-%m-%d %H:%M:%S')\n",
        "   time.append(t)\n",
        "\n",
        "  \n",
        "\n"
      ],
      "execution_count": null,
      "outputs": []
    },
    {
      "cell_type": "code",
      "metadata": {
        "colab": {
          "base_uri": "https://localhost:8080/"
        },
        "id": "OY7dGDSWw1-X",
        "outputId": "ab8e4aa8-ef97-4f3e-ad5b-97f756037671"
      },
      "source": [
        "time"
      ],
      "execution_count": null,
      "outputs": [
        {
          "output_type": "execute_result",
          "data": {
            "text/plain": [
              "['2021-07-01 14:00:06',\n",
              " '2021-06-30 21:37:47',\n",
              " '1918-07-03 07:20:33',\n",
              " '2021-07-01 09:25:41',\n",
              " '2021-06-30 21:15:50',\n",
              " '2021-07-01 02:03:39',\n",
              " '2021-07-01 07:32:05',\n",
              " '2021-07-01 09:09:48',\n",
              " '2021-07-01 14:14:01',\n",
              " '2021-07-01 11:48:06',\n",
              " '2021-06-30 23:40:45',\n",
              " '2021-07-01 08:47:59',\n",
              " '2021-06-30 23:23:47',\n",
              " '2021-07-01 11:41:18',\n",
              " '2021-07-01 02:40:34',\n",
              " '2021-07-01 03:13:49',\n",
              " '2021-07-01 02:18:20',\n",
              " '2021-07-01 10:01:36',\n",
              " '2021-07-01 03:32:19',\n",
              " '2021-07-01 12:02:02',\n",
              " '2021-07-01 11:49:46',\n",
              " '2021-07-01 00:42:17',\n",
              " '2021-07-01 08:23:37',\n",
              " '2021-07-01 17:50:37',\n",
              " '2021-07-01 08:53:13',\n",
              " '2021-07-01 07:04:43',\n",
              " '2021-07-01 02:45:19',\n",
              " '2021-06-30 22:08:38',\n",
              " '2021-07-01 14:21:59',\n",
              " '2021-07-01 09:54:23',\n",
              " '2021-07-01 16:59:18',\n",
              " '2021-07-01 12:01:32',\n",
              " '2021-07-01 07:32:31',\n",
              " '2021-07-01 15:34:23',\n",
              " '1918-07-03 07:20:33',\n",
              " '2021-06-30 21:40:27',\n",
              " '2021-06-30 21:04:37',\n",
              " '2021-07-01 04:43:36',\n",
              " '2021-07-01 15:31:31',\n",
              " '2021-06-30 21:05:32',\n",
              " '2021-07-01 20:59:12',\n",
              " '2021-07-01 13:16:51',\n",
              " '2021-07-01 18:22:17',\n",
              " '2021-07-01 19:02:16',\n",
              " '2021-07-01 11:30:29',\n",
              " '2021-07-01 15:03:02',\n",
              " '2021-07-01 06:13:15',\n",
              " '2021-07-01 19:02:35',\n",
              " '2021-07-01 00:23:41',\n",
              " '2021-07-01 11:09:37',\n",
              " '2021-07-01 03:45:32',\n",
              " '2021-07-01 17:22:38',\n",
              " '2021-07-01 07:19:11',\n",
              " '2021-07-01 05:42:09',\n",
              " '2021-07-01 05:26:38',\n",
              " '2021-07-01 13:30:16',\n",
              " '2021-07-01 09:05:27',\n",
              " '2021-07-01 12:04:36',\n",
              " '2021-07-01 03:36:36',\n",
              " '2021-07-01 02:25:13',\n",
              " '2021-07-01 04:29:19',\n",
              " '2021-07-01 08:07:40',\n",
              " '2021-06-30 21:17:30',\n",
              " '2021-07-01 15:02:20',\n",
              " '2021-07-01 10:31:21',\n",
              " '2021-07-01 11:16:54',\n",
              " '2021-07-01 18:54:30',\n",
              " '2021-07-01 19:14:25',\n",
              " '2021-07-01 20:54:47',\n",
              " '2021-07-01 02:23:44',\n",
              " '2021-06-30 22:01:31',\n",
              " '2021-07-01 07:42:06',\n",
              " '2021-07-01 11:16:13',\n",
              " '2021-07-01 20:20:37',\n",
              " '2021-06-30 21:36:57',\n",
              " '2021-07-01 15:44:21',\n",
              " '2021-07-01 12:52:33',\n",
              " '2021-06-30 23:35:12',\n",
              " '2021-07-01 02:22:41',\n",
              " '2021-07-01 12:34:13',\n",
              " '2021-07-01 06:03:58',\n",
              " '2021-07-01 20:40:04',\n",
              " '2021-07-01 03:18:20',\n",
              " '2021-07-01 07:35:08',\n",
              " '2021-07-01 11:20:55',\n",
              " '2021-06-30 21:12:54',\n",
              " '2021-07-01 03:21:12',\n",
              " '2021-06-30 21:25:52',\n",
              " '2021-07-01 02:30:53',\n",
              " '2021-07-01 00:05:54',\n",
              " '2021-07-01 18:04:13',\n",
              " '2021-07-01 00:49:33',\n",
              " '2021-07-01 11:40:03',\n",
              " '2021-07-01 01:46:37',\n",
              " '2021-07-01 13:05:15',\n",
              " '2021-07-01 08:19:51',\n",
              " '2021-07-01 13:23:19',\n",
              " '2021-07-01 14:39:33',\n",
              " '2021-07-01 20:38:23',\n",
              " '2021-07-01 01:32:16',\n",
              " '2021-07-01 08:48:29',\n",
              " '1918-07-03 07:20:33',\n",
              " '2021-07-01 16:50:16',\n",
              " '2021-07-01 14:53:54',\n",
              " '2021-06-30 23:27:14',\n",
              " '2021-06-30 23:38:03',\n",
              " '2021-07-01 16:44:24',\n",
              " '2021-07-01 01:01:29',\n",
              " '2021-07-01 20:06:10',\n",
              " '2021-07-01 19:44:32',\n",
              " '2021-06-30 23:48:57',\n",
              " '2021-07-01 12:05:07',\n",
              " '2021-07-01 04:14:35',\n",
              " '2021-07-01 13:11:12',\n",
              " '2021-07-01 10:03:40',\n",
              " '2021-07-01 07:53:15',\n",
              " '2021-06-30 23:06:31',\n",
              " '2021-07-01 19:04:09',\n",
              " '2021-07-01 05:31:52',\n",
              " '2021-07-01 03:38:57',\n",
              " '2021-07-01 08:45:51',\n",
              " '2021-07-01 01:00:52',\n",
              " '2021-07-01 09:49:19',\n",
              " '2021-07-01 12:31:50',\n",
              " '2021-07-01 00:19:32',\n",
              " '2021-07-01 12:48:10',\n",
              " '2021-07-01 02:24:10',\n",
              " '2021-07-01 09:30:12',\n",
              " '2021-06-30 23:10:38',\n",
              " '2021-07-01 18:24:33',\n",
              " '2021-07-01 13:52:36',\n",
              " '2021-07-01 07:13:21',\n",
              " '2021-07-01 01:26:05',\n",
              " '2021-07-01 12:46:05',\n",
              " '2021-07-01 02:02:58',\n",
              " '2021-07-01 10:45:55',\n",
              " '2021-07-01 12:05:28',\n",
              " '2021-07-01 16:34:02',\n",
              " '2021-07-01 04:09:10',\n",
              " '2021-06-30 21:31:26',\n",
              " '2021-07-01 06:42:20',\n",
              " '2021-07-01 19:03:41',\n",
              " '2021-07-01 07:04:19',\n",
              " '2021-07-01 19:35:42',\n",
              " '2021-07-01 03:48:54',\n",
              " '2021-06-30 22:16:01',\n",
              " '2021-07-01 01:21:07',\n",
              " '2021-07-01 04:58:31',\n",
              " '2021-07-01 08:25:23',\n",
              " '2021-06-30 23:26:20',\n",
              " '2021-07-01 00:34:29',\n",
              " '2021-07-01 08:37:51',\n",
              " '2021-07-01 18:12:02',\n",
              " '2021-07-01 10:27:30',\n",
              " '2021-07-01 09:26:54',\n",
              " '2021-07-01 09:03:33',\n",
              " '2021-07-01 17:54:08',\n",
              " '2021-07-01 08:57:51',\n",
              " '2021-07-01 02:13:20',\n",
              " '2021-07-01 13:07:04',\n",
              " '2021-07-01 15:15:15',\n",
              " '2021-06-30 21:34:34',\n",
              " '2021-07-01 13:24:30',\n",
              " '2021-06-30 22:43:58',\n",
              " '2021-07-01 08:27:51',\n",
              " '2021-07-01 10:30:23',\n",
              " '2021-07-01 10:34:18',\n",
              " '2021-07-01 01:28:10',\n",
              " '2021-07-01 07:07:46',\n",
              " '2021-07-01 15:35:25',\n",
              " '2021-06-30 22:04:45',\n",
              " '2021-07-01 16:41:20',\n",
              " '2021-06-30 21:20:58',\n",
              " '2021-07-01 20:58:19',\n",
              " '2021-07-01 15:43:41',\n",
              " '2021-07-01 06:51:48',\n",
              " '2021-07-01 15:40:00',\n",
              " '2021-07-01 20:49:43',\n",
              " '2021-07-01 07:17:38',\n",
              " '2021-07-01 15:45:36',\n",
              " '2021-07-01 19:13:15',\n",
              " '2021-06-30 22:10:58',\n",
              " '2021-07-01 18:51:45',\n",
              " '2021-07-01 20:34:55',\n",
              " '2021-07-01 01:25:52',\n",
              " '2021-07-01 11:13:43',\n",
              " '2021-07-01 20:11:46',\n",
              " '2021-07-01 05:44:25',\n",
              " '2021-07-01 19:56:45',\n",
              " '2021-07-01 06:57:23',\n",
              " '2021-07-01 01:22:11',\n",
              " '2021-07-01 16:57:20',\n",
              " '2021-07-01 06:45:17',\n",
              " '1918-07-03 07:20:33',\n",
              " '2021-06-30 21:40:13',\n",
              " '2021-07-01 13:15:21',\n",
              " '2021-06-30 23:05:26',\n",
              " '2021-07-01 08:40:56',\n",
              " '2021-07-01 18:40:33',\n",
              " '2021-07-01 11:10:34',\n",
              " '2021-07-01 15:33:18',\n",
              " '2021-07-01 20:17:52',\n",
              " '2021-07-01 00:52:14',\n",
              " '2021-07-01 00:45:22',\n",
              " '2021-07-01 08:55:23',\n",
              " '2021-07-01 13:57:21',\n",
              " '2021-07-01 03:59:38',\n",
              " '2021-06-30 22:47:47',\n",
              " '2021-06-30 22:16:25',\n",
              " '2021-06-30 21:39:08',\n",
              " '2021-06-30 21:55:00',\n",
              " '2021-07-01 07:25:35',\n",
              " '2021-07-01 13:20:45',\n",
              " '2021-07-01 13:22:57',\n",
              " '2021-07-01 01:29:54',\n",
              " '2021-07-01 15:36:35',\n",
              " '2021-07-01 17:40:59',\n",
              " '2021-07-01 00:49:21',\n",
              " '2021-07-01 08:02:12',\n",
              " '2021-07-01 02:18:26',\n",
              " '2021-07-01 18:55:40',\n",
              " '2021-07-01 04:46:03',\n",
              " '2021-07-01 15:19:59',\n",
              " '2021-06-30 22:19:41',\n",
              " '2021-07-01 17:20:22',\n",
              " '2021-07-01 12:45:05',\n",
              " '2021-07-01 02:19:50',\n",
              " '2021-07-01 10:43:09',\n",
              " '2021-07-01 01:56:34',\n",
              " '2021-07-01 17:55:23',\n",
              " '2021-07-01 00:03:27',\n",
              " '2021-07-01 05:54:43',\n",
              " '2021-06-30 23:38:02',\n",
              " '2021-07-01 15:09:28',\n",
              " '2021-06-30 21:08:00',\n",
              " '2021-07-01 14:22:56',\n",
              " '2021-07-01 13:56:25',\n",
              " '2021-07-01 11:34:04',\n",
              " '2021-07-01 07:23:58',\n",
              " '2021-07-01 05:15:51',\n",
              " '2021-07-01 01:37:08',\n",
              " '2021-07-01 08:24:11',\n",
              " '2021-07-01 00:11:28',\n",
              " '2021-06-30 23:52:31',\n",
              " '2021-07-01 10:49:12',\n",
              " '2021-07-01 03:08:18',\n",
              " '2021-07-01 12:38:35',\n",
              " '2021-07-01 13:58:13',\n",
              " '2021-06-30 22:29:35',\n",
              " '2021-07-01 08:36:14',\n",
              " '2021-07-01 13:52:58',\n",
              " '2021-07-01 08:10:13',\n",
              " '2021-07-01 10:17:42',\n",
              " '2021-07-01 01:28:46',\n",
              " '2021-07-01 01:53:00',\n",
              " '2021-06-30 21:11:31',\n",
              " '2021-07-01 07:02:45',\n",
              " '2021-07-01 14:32:46',\n",
              " '2021-07-01 20:58:38',\n",
              " '2021-07-01 03:10:18',\n",
              " '2021-07-01 09:05:21',\n",
              " '2021-07-01 19:39:20',\n",
              " '2021-07-01 05:46:38',\n",
              " '2021-07-01 11:50:50',\n",
              " '2021-07-01 07:06:48',\n",
              " '2021-07-01 00:41:46',\n",
              " '2021-07-01 02:17:54',\n",
              " '2021-07-01 12:38:59',\n",
              " '2021-07-01 10:57:50',\n",
              " '2021-07-01 03:57:49',\n",
              " '1918-07-03 07:20:33',\n",
              " '2021-07-01 15:30:32',\n",
              " '2021-07-01 08:45:23',\n",
              " '2021-07-01 12:07:35',\n",
              " '2021-06-30 23:14:12',\n",
              " '2021-07-01 06:32:34',\n",
              " '2021-07-01 14:14:17',\n",
              " '2021-06-30 23:33:31',\n",
              " '2021-07-01 13:40:24',\n",
              " '2021-07-01 13:25:49',\n",
              " '2021-07-01 16:03:26',\n",
              " '2021-07-01 20:25:16',\n",
              " '1918-07-03 07:20:33',\n",
              " '2021-07-01 16:26:54',\n",
              " '2021-07-01 03:26:00',\n",
              " '2021-07-01 15:21:56',\n",
              " '2021-07-01 10:00:43',\n",
              " '2021-07-01 12:31:02',\n",
              " '2021-07-01 03:07:30',\n",
              " '2021-07-01 02:37:14',\n",
              " '2021-07-01 10:36:09',\n",
              " '2021-07-01 06:10:44',\n",
              " '2021-07-01 13:07:52',\n",
              " '2021-07-01 04:51:45',\n",
              " '2021-07-01 00:11:05',\n",
              " '2021-07-01 14:00:07',\n",
              " '2021-07-01 00:07:33',\n",
              " '1918-07-03 07:20:33',\n",
              " '2021-07-01 17:22:52',\n",
              " '2021-07-01 18:01:51',\n",
              " '2021-07-01 11:23:03',\n",
              " '2021-07-01 14:07:17',\n",
              " '2021-07-01 03:15:57',\n",
              " '2021-07-01 19:27:50',\n",
              " '2021-07-01 08:39:11',\n",
              " '2021-07-01 09:45:31',\n",
              " '2021-07-01 03:07:56',\n",
              " '2021-07-01 14:11:20',\n",
              " '2021-07-01 17:53:34',\n",
              " '2021-07-01 07:55:24',\n",
              " '2021-07-01 00:10:01',\n",
              " '2021-07-01 18:04:05',\n",
              " '2021-07-01 07:30:32',\n",
              " '2021-07-01 06:35:24',\n",
              " '2021-07-01 11:46:39',\n",
              " '1918-07-03 07:20:33',\n",
              " '2021-07-01 00:24:22',\n",
              " '2021-07-01 13:21:05',\n",
              " '2021-07-01 18:40:32',\n",
              " '2021-07-01 06:58:23',\n",
              " '2021-07-01 00:07:31',\n",
              " '2021-07-01 16:15:36',\n",
              " '2021-07-01 09:28:41',\n",
              " '2021-07-01 07:17:39',\n",
              " '2021-07-01 05:31:53',\n",
              " '2021-07-01 12:54:19',\n",
              " '2021-07-01 00:04:03',\n",
              " '2021-06-30 21:22:50',\n",
              " '2021-07-01 02:33:25',\n",
              " '2021-06-30 23:09:04',\n",
              " '2021-07-01 12:24:25',\n",
              " '2021-07-01 12:41:54',\n",
              " '2021-07-01 17:25:20',\n",
              " '2021-07-01 17:28:33',\n",
              " '2021-07-01 00:22:06',\n",
              " '2021-07-01 08:22:18',\n",
              " '2021-06-30 23:57:48',\n",
              " '2021-07-01 09:02:18',\n",
              " '2021-07-01 03:24:29',\n",
              " '2021-07-01 14:36:48',\n",
              " '2021-07-01 07:35:47',\n",
              " '2021-07-01 17:58:46',\n",
              " '2021-07-01 02:30:02',\n",
              " '2021-07-01 20:46:25',\n",
              " '2021-07-01 18:24:18',\n",
              " '2021-07-01 01:08:16',\n",
              " '2021-06-30 21:25:48',\n",
              " '2021-07-01 13:53:22',\n",
              " '2021-07-01 14:24:38',\n",
              " '2021-07-01 10:02:52',\n",
              " '2021-07-01 11:59:35',\n",
              " '2021-07-01 09:33:58',\n",
              " '2021-07-01 15:50:22',\n",
              " '2021-07-01 11:17:57',\n",
              " '2021-07-01 04:01:12',\n",
              " '1918-07-03 07:20:33',\n",
              " '2021-07-01 18:06:25',\n",
              " '2021-06-30 21:53:03',\n",
              " '2021-06-30 22:31:11',\n",
              " '2021-07-01 01:17:24',\n",
              " '2021-07-01 10:06:12',\n",
              " '2021-07-01 16:25:03',\n",
              " '2021-07-01 18:23:04',\n",
              " '2021-07-01 18:53:31',\n",
              " '2021-07-01 09:14:11',\n",
              " '2021-07-01 13:40:24',\n",
              " '2021-07-01 13:54:25',\n",
              " '2021-07-01 19:49:34',\n",
              " '2021-07-01 04:00:33',\n",
              " '2021-07-01 07:29:13',\n",
              " '2021-07-01 19:35:58',\n",
              " '2021-07-01 06:12:34',\n",
              " '2021-07-01 03:03:30',\n",
              " '2021-06-30 23:28:19',\n",
              " '2021-07-01 05:47:31',\n",
              " '2021-07-01 20:04:01',\n",
              " '2021-07-01 01:47:57',\n",
              " '1918-07-03 07:20:33',\n",
              " '2021-07-01 01:27:44',\n",
              " '2021-07-01 00:25:11',\n",
              " '2021-07-01 00:23:39',\n",
              " '2021-07-01 06:58:01',\n",
              " '2021-07-01 05:21:36',\n",
              " '2021-07-01 15:32:42',\n",
              " '2021-07-01 20:52:33',\n",
              " '2021-07-01 06:46:32',\n",
              " '2021-07-01 06:23:45',\n",
              " '2021-07-01 02:54:17',\n",
              " '2021-07-01 02:37:52',\n",
              " '2021-07-01 05:10:23',\n",
              " '2021-07-01 12:23:46',\n",
              " '2021-07-01 11:02:35',\n",
              " '2021-07-01 05:36:27',\n",
              " '2021-07-01 14:59:01',\n",
              " '2021-07-01 13:04:38',\n",
              " '2021-07-01 05:56:43',\n",
              " '2021-07-01 02:47:27',\n",
              " '2021-07-01 20:13:38',\n",
              " '2021-07-01 01:01:19',\n",
              " '2021-07-01 17:43:26',\n",
              " '2021-07-01 01:03:21',\n",
              " '2021-07-01 19:04:36',\n",
              " '2021-06-30 23:56:26',\n",
              " '2021-07-01 07:03:50',\n",
              " '2021-07-01 18:43:45',\n",
              " '2021-07-01 16:19:47',\n",
              " '2021-07-01 02:19:46',\n",
              " '2021-07-01 07:33:34',\n",
              " '2021-07-01 14:23:34',\n",
              " '2021-07-01 10:51:29',\n",
              " '2021-07-01 16:20:56',\n",
              " '2021-07-01 14:36:18',\n",
              " '2021-07-01 18:45:33',\n",
              " '2021-07-01 15:35:43',\n",
              " '1918-07-03 07:20:33',\n",
              " '2021-07-01 03:07:06',\n",
              " '2021-07-01 18:58:21',\n",
              " '2021-07-01 09:22:46',\n",
              " '2021-07-01 12:06:22',\n",
              " '2021-07-01 12:11:05',\n",
              " '2021-07-01 20:08:30',\n",
              " '2021-07-01 19:42:57',\n",
              " '2021-07-01 02:30:16',\n",
              " '2021-07-01 01:51:03',\n",
              " '2021-07-01 17:10:47',\n",
              " '2021-07-01 13:52:25',\n",
              " '2021-07-01 13:34:32',\n",
              " '2021-07-01 05:09:27',\n",
              " '2021-07-01 12:00:14',\n",
              " '2021-07-01 04:38:54',\n",
              " '2021-07-01 08:37:59',\n",
              " '2021-07-01 10:54:47',\n",
              " '2021-06-30 21:01:32',\n",
              " '2021-07-01 00:51:19',\n",
              " '2021-06-30 23:07:19',\n",
              " '2021-07-01 11:02:03',\n",
              " '2021-07-01 11:21:18',\n",
              " '2021-07-01 18:58:42',\n",
              " '2021-07-01 14:25:30',\n",
              " '2021-06-30 23:21:26',\n",
              " '1918-07-03 07:20:33',\n",
              " '2021-07-01 19:35:54',\n",
              " '2021-07-01 10:02:51',\n",
              " '2021-07-01 15:00:14',\n",
              " '2021-07-01 18:10:04',\n",
              " '2021-07-01 03:55:21',\n",
              " '2021-07-01 00:42:31',\n",
              " '2021-06-30 23:56:28',\n",
              " '2021-06-30 21:23:34',\n",
              " '2021-07-01 02:24:15',\n",
              " '2021-07-01 00:46:43',\n",
              " '2021-07-01 17:36:05',\n",
              " '2021-07-01 10:26:12',\n",
              " '1918-07-03 07:20:33',\n",
              " '2021-07-01 00:24:28',\n",
              " '2021-07-01 13:58:44',\n",
              " '2021-07-01 01:32:30',\n",
              " '2021-07-01 17:31:58',\n",
              " '2021-07-01 16:55:14',\n",
              " '2021-07-01 01:05:45',\n",
              " '2021-07-01 02:40:03',\n",
              " '2021-07-01 09:54:11',\n",
              " '2021-07-01 17:11:56',\n",
              " '2021-07-01 10:45:38',\n",
              " '2021-07-01 00:15:50',\n",
              " '1918-07-03 07:20:33',\n",
              " '2021-07-01 02:00:14',\n",
              " '2021-07-01 07:44:48',\n",
              " '2021-06-30 21:00:57',\n",
              " '2021-07-01 17:30:56',\n",
              " '2021-07-01 16:34:03',\n",
              " '2021-07-01 04:21:02',\n",
              " '2021-07-01 06:43:23',\n",
              " '1918-07-03 07:20:33',\n",
              " '2021-07-01 03:59:57',\n",
              " '2021-06-30 22:02:34',\n",
              " '2021-07-01 16:14:59',\n",
              " '2021-07-01 05:49:37',\n",
              " '1918-07-03 07:20:33',\n",
              " '2021-07-01 02:32:04',\n",
              " '2021-07-01 19:06:58',\n",
              " '2021-07-01 18:38:03',\n",
              " '2021-07-01 02:06:34',\n",
              " '2021-07-01 08:50:53',\n",
              " '2021-06-30 21:08:20',\n",
              " '2021-07-01 06:43:22',\n",
              " '2021-07-01 09:03:42',\n",
              " '2021-07-01 19:58:59',\n",
              " '2021-07-01 03:25:03',\n",
              " '2021-06-30 23:25:55',\n",
              " '2021-07-01 09:32:58',\n",
              " '2021-06-30 22:33:04',\n",
              " '2021-07-01 12:48:50',\n",
              " '1918-07-03 07:20:33',\n",
              " '2021-07-01 00:03:23',\n",
              " '2021-07-01 16:37:22',\n",
              " '2021-07-01 07:46:15',\n",
              " '2021-07-01 12:58:17',\n",
              " '2021-07-01 16:59:49',\n",
              " '2021-07-01 12:32:57',\n",
              " '2021-07-01 13:59:18',\n",
              " '2021-07-01 14:07:46',\n",
              " '2021-07-01 18:52:29',\n",
              " '2021-07-01 18:14:33',\n",
              " '2021-07-01 14:23:41',\n",
              " '2021-07-01 19:31:08',\n",
              " '2021-07-01 16:01:00',\n",
              " '2021-07-01 10:30:08',\n",
              " '2021-07-01 08:41:31',\n",
              " '2021-07-01 00:52:24',\n",
              " '2021-07-01 06:27:50',\n",
              " '2021-07-01 20:11:01',\n",
              " '2021-07-01 07:19:46',\n",
              " '2021-06-30 23:13:07',\n",
              " '2021-06-30 22:55:42',\n",
              " '2021-07-01 09:55:23',\n",
              " '2021-07-01 09:16:16',\n",
              " '2021-07-01 00:36:42',\n",
              " '2021-07-01 02:15:39',\n",
              " '2021-07-01 19:03:29',\n",
              " '2021-07-01 09:44:38',\n",
              " '2021-07-01 09:07:05',\n",
              " '2021-07-01 13:34:33',\n",
              " '2021-07-01 20:20:19',\n",
              " '2021-07-01 20:01:49',\n",
              " '2021-07-01 00:38:44',\n",
              " '2021-07-01 12:50:13',\n",
              " '2021-07-01 14:54:57',\n",
              " '2021-07-01 18:14:56',\n",
              " '2021-07-01 07:47:18',\n",
              " '2021-06-30 21:34:19',\n",
              " '2021-07-01 20:56:12',\n",
              " '2021-07-01 05:43:40',\n",
              " '2021-07-01 03:00:21',\n",
              " '2021-06-30 23:13:11',\n",
              " '2021-07-01 04:33:05',\n",
              " '2021-07-01 12:57:19',\n",
              " '2021-07-01 19:37:08',\n",
              " '2021-07-01 11:15:22',\n",
              " '2021-07-01 14:00:51',\n",
              " '2021-07-01 08:11:07',\n",
              " '2021-07-01 14:37:15',\n",
              " '2021-07-01 09:39:59',\n",
              " '2021-07-01 07:13:30',\n",
              " '2021-07-01 07:35:57',\n",
              " '2021-07-01 07:13:20',\n",
              " '2021-07-01 11:30:29',\n",
              " '2021-07-01 09:15:30',\n",
              " '2021-07-01 10:17:24',\n",
              " '2021-06-30 21:58:03',\n",
              " '2021-07-01 10:55:07',\n",
              " '2021-07-01 15:00:38',\n",
              " '2021-07-01 01:14:50',\n",
              " '2021-07-01 12:41:21',\n",
              " '2021-07-01 20:59:32',\n",
              " '2021-07-01 20:23:24',\n",
              " '2021-07-01 00:07:47',\n",
              " '2021-07-01 20:02:34',\n",
              " '2021-07-01 20:21:24',\n",
              " '2021-07-01 15:26:23',\n",
              " '2021-06-30 22:44:59',\n",
              " '2021-07-01 01:16:05',\n",
              " '2021-06-30 22:23:08',\n",
              " '2021-07-01 14:42:02',\n",
              " '2021-07-01 07:34:47',\n",
              " '2021-06-30 22:52:44',\n",
              " '2021-07-01 02:41:41',\n",
              " '2021-07-01 01:05:29',\n",
              " '2021-07-01 18:51:47',\n",
              " '2021-07-01 12:23:20',\n",
              " '2021-07-01 02:16:25',\n",
              " '2021-07-01 13:16:39',\n",
              " '2021-07-01 20:07:19',\n",
              " '2021-06-30 21:37:37',\n",
              " '2021-07-01 02:06:17',\n",
              " '2021-07-01 10:59:04',\n",
              " '2021-07-01 11:27:35',\n",
              " '2021-07-01 17:49:27',\n",
              " '2021-07-01 13:43:23',\n",
              " '2021-07-01 10:15:50',\n",
              " '2021-07-01 16:07:57',\n",
              " '2021-07-01 20:44:24',\n",
              " '2021-06-30 21:13:59',\n",
              " '2021-07-01 15:26:43',\n",
              " '2021-07-01 14:34:04',\n",
              " '2021-07-01 10:29:07',\n",
              " '2021-07-01 20:06:44',\n",
              " '1918-07-03 07:20:33',\n",
              " '2021-07-01 04:59:12',\n",
              " '2021-06-30 23:14:08',\n",
              " '2021-07-01 00:46:25',\n",
              " '2021-07-01 05:34:06',\n",
              " '2021-07-01 01:06:04',\n",
              " '2021-07-01 15:31:31',\n",
              " '2021-06-30 22:55:32',\n",
              " '2021-06-30 23:37:06',\n",
              " '2021-07-01 19:32:06',\n",
              " '2021-07-01 13:15:13',\n",
              " '2021-07-01 00:08:03',\n",
              " '2021-07-01 09:45:13',\n",
              " '2021-07-01 01:07:20',\n",
              " '2021-07-01 19:53:28',\n",
              " '2021-07-01 13:36:26',\n",
              " '2021-07-01 09:55:35',\n",
              " '2021-07-01 02:36:42',\n",
              " '2021-07-01 00:58:07',\n",
              " '2021-07-01 02:26:59',\n",
              " '2021-07-01 11:12:16',\n",
              " '2021-07-01 18:41:37',\n",
              " '2021-07-01 11:59:27',\n",
              " '2021-07-01 15:54:06',\n",
              " '2021-07-01 04:52:12',\n",
              " '2021-07-01 16:40:30',\n",
              " '2021-07-01 04:26:46',\n",
              " '2021-07-01 07:57:17',\n",
              " '2021-07-01 18:15:37',\n",
              " '2021-07-01 17:25:16',\n",
              " '2021-07-01 12:02:35',\n",
              " '2021-07-01 03:45:42',\n",
              " '2021-07-01 13:57:34',\n",
              " '2021-07-01 06:34:33',\n",
              " '2021-07-01 03:47:23',\n",
              " '2021-06-30 21:23:11',\n",
              " '2021-07-01 11:50:54',\n",
              " '2021-07-01 17:36:59',\n",
              " '2021-06-30 21:27:46',\n",
              " '2021-07-01 16:24:48',\n",
              " '2021-07-01 16:06:54',\n",
              " '2021-06-30 21:48:11',\n",
              " '2021-07-01 19:00:04',\n",
              " '2021-07-01 01:38:51',\n",
              " '2021-07-01 03:53:47',\n",
              " '2021-07-01 10:01:48',\n",
              " '2021-07-01 11:28:50',\n",
              " '2021-07-01 11:53:56',\n",
              " '2021-07-01 14:27:18',\n",
              " '2021-07-01 19:51:17',\n",
              " '1918-07-03 07:20:33',\n",
              " '2021-07-01 09:55:31',\n",
              " '2021-07-01 09:02:58',\n",
              " '2021-07-01 07:21:02',\n",
              " '2021-07-01 00:10:38',\n",
              " '2021-07-01 17:28:21',\n",
              " '2021-06-30 22:00:33',\n",
              " '2021-07-01 15:29:34',\n",
              " '2021-07-01 07:53:19',\n",
              " '2021-07-01 06:41:20',\n",
              " '2021-07-01 06:58:53',\n",
              " '2021-07-01 16:47:46',\n",
              " '2021-07-01 04:32:01',\n",
              " '2021-07-01 02:51:40',\n",
              " '2021-07-01 13:27:08',\n",
              " '2021-07-01 08:11:45',\n",
              " '2021-07-01 16:45:14',\n",
              " '2021-07-01 17:44:03',\n",
              " '2021-07-01 04:09:32',\n",
              " '2021-07-01 15:18:20',\n",
              " '2021-07-01 12:55:59',\n",
              " '2021-07-01 19:36:43',\n",
              " '2021-07-01 15:03:25',\n",
              " '2021-06-30 22:26:35',\n",
              " '2021-07-01 17:19:22',\n",
              " '2021-07-01 04:33:17',\n",
              " '2021-07-01 14:02:19',\n",
              " '2021-07-01 03:52:37',\n",
              " '2021-07-01 14:31:25',\n",
              " '2021-07-01 09:46:27',\n",
              " '2021-07-01 01:53:34',\n",
              " '2021-07-01 14:46:43',\n",
              " '2021-07-01 11:26:00',\n",
              " '2021-07-01 12:12:40',\n",
              " '1918-07-03 07:20:33',\n",
              " '2021-07-01 18:44:15',\n",
              " '2021-07-01 05:45:58',\n",
              " '2021-07-01 03:25:28',\n",
              " '2021-07-01 19:32:44',\n",
              " '2021-07-01 17:51:12',\n",
              " '2021-07-01 09:55:11',\n",
              " '2021-07-01 17:16:43',\n",
              " '2021-07-01 05:03:58',\n",
              " '2021-07-01 19:18:30',\n",
              " '2021-07-01 19:33:36',\n",
              " '2021-07-01 17:37:13',\n",
              " '2021-07-01 08:07:19',\n",
              " '2021-07-01 13:10:31',\n",
              " '2021-07-01 12:18:07',\n",
              " '2021-07-01 13:21:19',\n",
              " '2021-07-01 14:37:34',\n",
              " '2021-07-01 01:12:00',\n",
              " '2021-07-01 03:22:50',\n",
              " '2021-07-01 12:46:46',\n",
              " '2021-07-01 00:37:22',\n",
              " '2021-07-01 01:51:37',\n",
              " '2021-07-01 05:54:50',\n",
              " '2021-06-30 22:02:05',\n",
              " '2021-07-01 04:46:04',\n",
              " '2021-07-01 14:21:45',\n",
              " '2021-07-01 04:19:03',\n",
              " '2021-06-30 23:13:16',\n",
              " '2021-07-01 12:11:55',\n",
              " '2021-07-01 05:19:26',\n",
              " '2021-07-01 00:55:54',\n",
              " '2021-07-01 20:02:06',\n",
              " '2021-07-01 15:10:25',\n",
              " '2021-07-01 01:03:48',\n",
              " '2021-07-01 14:56:43',\n",
              " '2021-07-01 05:27:25',\n",
              " '2021-07-01 16:13:50',\n",
              " '2021-07-01 07:28:07',\n",
              " '1918-07-03 07:20:33',\n",
              " '2021-07-01 01:36:21',\n",
              " '2021-06-30 23:18:22',\n",
              " '2021-07-01 09:10:32',\n",
              " '2021-07-01 17:46:32',\n",
              " '2021-07-01 00:10:53',\n",
              " '2021-07-01 09:24:03',\n",
              " '2021-07-01 06:03:55',\n",
              " '2021-07-01 19:37:15',\n",
              " '2021-06-30 22:05:58',\n",
              " '2021-07-01 13:50:34',\n",
              " '2021-07-01 06:35:37',\n",
              " '2021-07-01 05:51:26',\n",
              " '2021-07-01 14:34:55',\n",
              " '2021-07-01 10:52:12',\n",
              " '2021-07-01 20:39:32',\n",
              " '2021-06-30 23:33:21',\n",
              " '2021-07-01 18:55:57',\n",
              " '2021-07-01 10:11:12',\n",
              " '2021-07-01 01:28:42',\n",
              " '2021-07-01 04:38:51',\n",
              " '2021-07-01 19:21:00',\n",
              " '2021-07-01 13:55:41',\n",
              " '2021-07-01 11:57:21',\n",
              " '2021-07-01 09:25:31',\n",
              " '2021-07-01 04:52:10',\n",
              " '2021-07-01 14:09:21',\n",
              " '2021-06-30 22:52:59',\n",
              " '2021-07-01 02:34:00',\n",
              " '2021-07-01 06:29:21',\n",
              " '2021-07-01 07:50:31',\n",
              " '2021-07-01 16:54:28',\n",
              " '2021-07-01 00:08:01',\n",
              " '2021-07-01 01:47:11',\n",
              " '1918-07-03 07:20:33',\n",
              " '2021-07-01 14:14:38',\n",
              " '2021-07-01 18:50:38',\n",
              " '2021-06-30 21:26:00',\n",
              " '1918-07-03 07:20:33',\n",
              " '2021-07-01 19:22:56',\n",
              " '2021-06-30 21:16:38',\n",
              " '2021-07-01 12:58:15',\n",
              " '2021-07-01 00:21:16',\n",
              " '2021-07-01 16:02:56',\n",
              " '2021-07-01 20:05:09',\n",
              " '2021-07-01 00:11:48',\n",
              " '2021-06-30 22:32:02',\n",
              " '2021-07-01 01:21:41',\n",
              " '2021-07-01 00:50:54',\n",
              " '2021-07-01 00:02:53',\n",
              " '2021-07-01 11:39:10',\n",
              " '2021-07-01 12:30:29',\n",
              " '2021-07-01 13:07:32',\n",
              " '2021-07-01 10:08:14',\n",
              " '2021-06-30 22:22:26',\n",
              " '2021-07-01 12:56:36',\n",
              " '2021-07-01 01:16:27',\n",
              " '2021-07-01 03:50:30',\n",
              " '2021-07-01 08:22:39',\n",
              " '2021-07-01 09:22:20',\n",
              " '2021-07-01 07:39:58',\n",
              " '2021-07-01 18:36:54',\n",
              " '2021-07-01 17:30:42',\n",
              " '2021-07-01 19:42:47',\n",
              " '2021-07-01 00:59:05',\n",
              " '2021-07-01 01:49:26',\n",
              " '2021-07-01 05:07:03',\n",
              " '2021-07-01 15:31:50',\n",
              " '2021-06-30 21:55:15',\n",
              " '2021-07-01 14:03:27',\n",
              " '2021-07-01 12:28:29',\n",
              " '2021-07-01 01:01:22',\n",
              " '2021-07-01 20:17:42',\n",
              " '2021-07-01 09:55:41',\n",
              " '2021-07-01 20:19:17',\n",
              " '2021-07-01 12:08:15',\n",
              " '2021-07-01 15:11:32',\n",
              " '2021-07-01 16:53:26',\n",
              " '2021-07-01 16:16:46',\n",
              " '2021-07-01 08:30:18',\n",
              " '2021-07-01 02:35:04',\n",
              " '2021-07-01 15:52:18',\n",
              " '2021-07-01 16:43:31',\n",
              " '2021-07-01 15:48:23',\n",
              " '2021-07-01 01:34:14',\n",
              " '2021-07-01 01:00:59',\n",
              " '2021-07-01 19:44:23',\n",
              " '2021-07-01 00:48:43',\n",
              " '2021-07-01 09:41:23',\n",
              " '2021-07-01 09:55:28',\n",
              " '2021-07-01 11:14:39',\n",
              " '2021-07-01 03:59:34',\n",
              " '2021-07-01 10:11:23',\n",
              " '2021-07-01 17:50:48',\n",
              " '2021-07-01 03:01:35',\n",
              " '2021-07-01 02:30:20',\n",
              " '2021-07-01 12:16:39',\n",
              " '2021-07-01 02:36:59',\n",
              " '2021-07-01 08:02:00',\n",
              " '2021-06-30 22:10:47',\n",
              " '2021-07-01 04:53:18',\n",
              " '2021-07-01 14:10:29',\n",
              " '2021-07-01 16:09:24',\n",
              " '2021-07-01 07:31:57',\n",
              " '2021-07-01 14:17:17',\n",
              " '2021-07-01 01:55:16',\n",
              " '2021-07-01 17:37:09',\n",
              " '2021-07-01 13:58:03',\n",
              " '2021-07-01 19:37:24',\n",
              " '2021-07-01 07:30:19',\n",
              " '2021-06-30 21:33:50',\n",
              " '2021-07-01 16:00:38',\n",
              " '2021-07-01 08:27:26',\n",
              " '2021-07-01 20:23:42',\n",
              " '2021-07-01 10:39:32',\n",
              " '2021-07-01 01:42:50',\n",
              " '2021-07-01 01:49:08',\n",
              " '2021-07-01 02:05:52',\n",
              " '2021-07-01 03:45:22',\n",
              " '2021-07-01 17:42:40',\n",
              " '2021-07-01 17:37:19',\n",
              " '2021-07-01 15:36:01',\n",
              " '2021-07-01 17:32:23',\n",
              " '2021-07-01 17:04:48',\n",
              " '2021-07-01 17:30:48',\n",
              " '2021-07-01 09:47:47',\n",
              " '2021-07-01 11:47:25',\n",
              " '2021-07-01 15:36:34',\n",
              " '2021-07-01 20:33:27',\n",
              " '2021-07-01 03:48:16',\n",
              " '2021-07-01 18:06:36',\n",
              " '2021-07-01 02:28:37',\n",
              " '2021-07-01 00:06:55',\n",
              " '2021-07-01 06:18:24',\n",
              " '2021-06-30 21:52:48',\n",
              " '2021-07-01 13:14:47',\n",
              " '2021-07-01 17:07:39',\n",
              " '2021-07-01 04:03:57',\n",
              " '2021-07-01 16:11:05',\n",
              " '2021-07-01 01:09:11',\n",
              " '2021-07-01 05:09:22',\n",
              " '2021-07-01 15:36:41',\n",
              " '2021-06-30 23:08:16',\n",
              " '2021-07-01 16:01:25',\n",
              " '2021-07-01 10:25:48',\n",
              " '2021-07-01 07:46:08',\n",
              " '2021-07-01 15:07:56',\n",
              " '1918-07-03 07:20:33',\n",
              " '2021-07-01 01:23:58',\n",
              " '2021-07-01 03:29:39',\n",
              " '2021-07-01 00:41:07',\n",
              " '2021-07-01 18:28:09',\n",
              " '2021-07-01 17:32:39',\n",
              " '2021-07-01 03:10:09',\n",
              " '2021-07-01 15:13:12',\n",
              " '2021-07-01 18:36:51',\n",
              " '2021-07-01 07:21:24',\n",
              " '2021-07-01 07:07:19',\n",
              " '2021-07-01 10:04:55',\n",
              " '2021-07-01 13:20:26',\n",
              " '2021-07-01 05:16:49',\n",
              " '2021-07-01 17:29:54',\n",
              " '2021-07-01 14:55:21',\n",
              " '2021-07-01 07:15:37',\n",
              " '2021-07-01 08:37:49',\n",
              " '2021-07-01 10:25:45',\n",
              " '2021-07-01 01:56:27',\n",
              " '2021-07-01 05:57:49',\n",
              " '2021-07-01 06:20:43',\n",
              " '2021-07-01 08:21:08',\n",
              " '2021-07-01 02:48:27',\n",
              " '2021-07-01 07:31:10',\n",
              " '2021-06-30 23:14:24',\n",
              " '2021-07-01 15:48:44',\n",
              " '2021-07-01 04:47:49',\n",
              " '2021-07-01 14:05:24',\n",
              " '2021-07-01 19:26:09',\n",
              " '2021-07-01 13:42:06',\n",
              " '2021-06-30 22:28:31',\n",
              " '2021-07-01 12:29:18',\n",
              " '2021-07-01 16:09:50',\n",
              " '1918-07-03 07:20:33',\n",
              " '2021-07-01 13:10:17',\n",
              " '2021-07-01 06:45:12',\n",
              " '2021-07-01 03:44:44',\n",
              " '2021-07-01 04:35:13',\n",
              " '2021-07-01 04:14:34',\n",
              " '2021-07-01 01:42:54',\n",
              " '2021-07-01 16:06:13',\n",
              " '2021-07-01 20:32:37',\n",
              " '2021-06-30 22:51:55',\n",
              " '2021-07-01 14:27:58',\n",
              " '2021-07-01 15:37:41',\n",
              " '2021-07-01 12:07:09',\n",
              " '2021-07-01 16:21:09',\n",
              " '2021-07-01 01:07:38',\n",
              " '2021-07-01 13:52:14',\n",
              " '2021-07-01 00:17:32',\n",
              " '2021-06-30 23:47:04',\n",
              " '2021-07-01 17:50:31',\n",
              " '2021-07-01 06:19:47',\n",
              " '2021-06-30 21:50:28',\n",
              " '2021-07-01 18:01:39',\n",
              " '2021-07-01 01:10:40',\n",
              " '2021-07-01 00:49:15',\n",
              " '2021-07-01 15:57:57',\n",
              " '2021-07-01 19:03:37',\n",
              " '2021-07-01 00:06:59',\n",
              " '2021-07-01 08:42:50',\n",
              " '2021-06-30 22:57:10',\n",
              " '2021-07-01 00:59:18',\n",
              " '2021-07-01 16:53:27',\n",
              " '2021-07-01 07:43:16',\n",
              " '2021-07-01 02:01:17',\n",
              " '2021-07-01 13:05:16',\n",
              " '2021-07-01 13:48:06',\n",
              " '1918-07-03 07:20:33',\n",
              " '2021-07-01 17:55:47',\n",
              " '2021-07-01 12:34:03',\n",
              " '2021-06-30 21:26:24',\n",
              " '2021-07-01 09:24:22',\n",
              " '2021-07-01 13:33:57',\n",
              " '2021-07-01 11:19:31',\n",
              " '2021-07-01 09:15:37',\n",
              " '2021-07-01 02:41:44',\n",
              " '2021-07-01 02:15:38',\n",
              " '2021-07-01 18:25:59',\n",
              " '2021-07-01 17:33:55',\n",
              " '2021-07-01 19:50:48',\n",
              " '2021-07-01 14:28:08',\n",
              " '2021-07-01 02:05:41',\n",
              " '2021-07-01 02:44:30',\n",
              " '2021-07-01 15:53:46',\n",
              " '2021-07-01 03:47:07',\n",
              " '2021-07-01 14:57:28',\n",
              " '2021-07-01 01:41:34',\n",
              " '2021-07-01 20:08:47',\n",
              " '2021-07-01 10:43:12',\n",
              " '2021-07-01 13:23:46',\n",
              " '1918-07-03 07:20:33',\n",
              " '2021-07-01 19:01:07',\n",
              " '2021-06-30 23:02:27',\n",
              " '2021-07-01 17:00:46',\n",
              " '2021-07-01 13:17:22',\n",
              " '2021-07-01 15:52:10',\n",
              " '2021-07-01 10:13:45',\n",
              " '2021-07-01 11:00:13',\n",
              " '2021-07-01 04:06:11',\n",
              " '2021-07-01 17:50:29',\n",
              " '2021-07-01 10:03:18',\n",
              " '2021-07-01 12:20:58',\n",
              " '2021-07-01 08:07:15',\n",
              " '2021-07-01 16:11:10',\n",
              " '2021-07-01 08:33:16',\n",
              " '2021-07-01 17:25:34',\n",
              " '2021-07-01 13:20:03',\n",
              " '2021-07-01 13:17:18',\n",
              " '2021-07-01 05:45:03',\n",
              " '2021-07-01 20:40:08',\n",
              " '2021-07-01 15:22:08',\n",
              " '2021-07-01 16:19:06',\n",
              " '2021-07-01 15:09:05',\n",
              " '2021-07-01 02:33:04',\n",
              " '2021-07-01 01:54:08',\n",
              " '2021-07-01 17:55:13',\n",
              " '2021-07-01 12:09:26',\n",
              " '2021-06-30 21:10:53',\n",
              " '2021-07-01 20:02:11',\n",
              " '2021-07-01 10:18:18',\n",
              " '2021-07-01 09:31:12',\n",
              " '2021-07-01 14:38:06',\n",
              " '2021-07-01 09:36:14',\n",
              " '2021-07-01 02:49:25',\n",
              " '2021-07-01 03:10:32',\n",
              " '2021-07-01 16:45:01',\n",
              " '2021-07-01 15:18:43',\n",
              " '2021-07-01 15:32:41',\n",
              " '2021-07-01 02:03:17',\n",
              " '2021-07-01 18:02:23',\n",
              " '2021-06-30 23:18:36',\n",
              " '2021-06-30 23:07:52',\n",
              " '2021-07-01 10:47:42',\n",
              " '2021-07-01 12:17:57',\n",
              " '2021-07-01 16:15:52',\n",
              " '2021-07-01 18:16:20',\n",
              " '2021-07-01 18:13:18',\n",
              " '2021-07-01 20:59:35',\n",
              " '2021-06-30 21:52:55',\n",
              " '2021-07-01 17:18:25',\n",
              " '2021-06-30 22:21:53',\n",
              " '2021-06-30 22:30:31',\n",
              " ...]"
            ]
          },
          "metadata": {},
          "execution_count": 20
        }
      ]
    },
    {
      "cell_type": "code",
      "metadata": {
        "id": "YgbFqYu50qU0"
      },
      "source": [
        "time =pd.DataFrame(time)"
      ],
      "execution_count": null,
      "outputs": []
    },
    {
      "cell_type": "code",
      "metadata": {
        "id": "5lOXFkG8z1Vq"
      },
      "source": [
        "time.to_csv('time.csv')\n",
        "!cp time.csv \"/content/drive/MyDrive\""
      ],
      "execution_count": null,
      "outputs": []
    }
  ]
}